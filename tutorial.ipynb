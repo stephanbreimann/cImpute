{
 "cells": [
  {
   "cell_type": "code",
   "execution_count": 23,
   "metadata": {},
   "outputs": [],
   "source": [
    "import pandas as pd\n",
    "import matplotlib.pyplot as plt\n",
    "from c_impute import cImpute\n",
    "\n",
    "import c_impute.utils as ut\n",
    "from c_impute.plotting import plot_settings, plot_hist, plot_scatter"
   ]
  },
  {
   "cell_type": "code",
   "execution_count": 24,
   "metadata": {
    "pycharm": {
     "name": "#%%\n"
    }
   },
   "outputs": [],
   "source": [
    "# Settings\n",
    "plot_settings()\n",
    "groups = [\"A\", \"B\", \"C\", \"D\", \"E\", \"F\"]\n",
    "str_lfq = \"log2 LFQ \"\n",
    "str_ids = \"Protein IDs\"\n",
    "\n",
    "# Creat imputation object\n",
    "cimp = cImpute(str_id=str_ids, str_lfq=str_lfq)"
   ]
  },
  {
   "cell_type": "code",
   "execution_count": 25,
   "metadata": {
    "pycharm": {
     "name": "#%%\n"
    }
   },
   "outputs": [],
   "source": [
    "# Load data\n",
    "file = \"raw_data_proteomics_lfq.xlsx\"\n",
    "df_raw = pd.read_excel(ut.FOLDER_DATA + file)\n",
    "dict_group_cols = cimp.get_dict_groups(df=df_raw, groups=groups)\n",
    "all_groups_col = cimp.get_all_group_cols(dict_group_cols=dict_group_cols)"
   ]
  },
  {
   "cell_type": "code",
   "execution_count": 26,
   "metadata": {
    "pycharm": {
     "name": "#%%\n"
    }
   },
   "outputs": [
    {
     "ename": "TypeError",
     "evalue": "run() got an unexpected keyword argument 'std_factor'",
     "output_type": "error",
     "traceback": [
      "\u001B[0;31m---------------------------------------------------------------------------\u001B[0m",
      "\u001B[0;31mTypeError\u001B[0m                                 Traceback (most recent call last)",
      "\u001B[0;32m/tmp/ipykernel_13142/789992404.py\u001B[0m in \u001B[0;36m<module>\u001B[0;34m\u001B[0m\n\u001B[1;32m      5\u001B[0m                                         loc_up_mnar=loc_up_mnar)\n\u001B[1;32m      6\u001B[0m \u001B[0;34m\u001B[0m\u001B[0m\n\u001B[0;32m----> 7\u001B[0;31m df_imputed = cimp.run(df=df_raw.copy(),\n\u001B[0m\u001B[1;32m      8\u001B[0m                           \u001B[0mdict_group_cols\u001B[0m\u001B[0;34m=\u001B[0m\u001B[0mdict_group_cols\u001B[0m\u001B[0;34m,\u001B[0m\u001B[0;34m\u001B[0m\u001B[0;34m\u001B[0m\u001B[0m\n\u001B[1;32m      9\u001B[0m                           \u001B[0mmin_cs\u001B[0m\u001B[0;34m=\u001B[0m\u001B[0;36m0.5\u001B[0m\u001B[0;34m,\u001B[0m\u001B[0;34m\u001B[0m\u001B[0;34m\u001B[0m\u001B[0m\n",
      "\u001B[0;31mTypeError\u001B[0m: run() got an unexpected keyword argument 'std_factor'"
     ]
    }
   ],
   "source": [
    "# Imputation\n",
    "loc_up_mnar = 0.2\n",
    "d_min, up_mnar, d_max = cimp.get_limits(df=df_raw.copy(),\n",
    "                                        dict_group_cols=dict_group_cols,\n",
    "                                        loc_up_mnar=loc_up_mnar)\n",
    "\n",
    "df_imputed = cimp.run(df=df_raw.copy(),\n",
    "                          dict_group_cols=dict_group_cols,\n",
    "                          min_cs=0.5,\n",
    "                          loc_up_mnar=loc_up_mnar,\n",
    "                          std_factor=0.8,\n",
    "                          n_neigbhors=6)\n",
    "print(df_imputed)"
   ]
  },
  {
   "cell_type": "code",
   "execution_count": null,
   "metadata": {
    "pycharm": {
     "name": "#%%\n"
    }
   },
   "outputs": [],
   "source": [
    "# Plot histogram\n",
    "plot_hist(df_raw=df_raw,\n",
    "          df_imputed=df_imputed,\n",
    "          cols=all_groups_col,\n",
    "          d_min=d_min,\n",
    "          up_mnar=up_mnar)\n",
    "plt.show()\n",
    "plt.close()"
   ]
  },
  {
   "cell_type": "code",
   "execution_count": null,
   "metadata": {
    "pycharm": {
     "name": "#%%\n"
    }
   },
   "outputs": [],
   "source": [
    "# Plot scatter plot for each group\n",
    "df_raw_plot = df_raw.set_index(str_ids)\n",
    "df_raw_plot = df_raw_plot.sort_index()\n",
    "for group in dict_group_cols:\n",
    "    cols = dict_group_cols[group]\n",
    "    plot_scatter(df_raw=df_raw_plot, df_imputed=df_imputed, cols=cols, group=group)\n",
    "    plt.show()\n",
    "    plt.close()\n"
   ]
  }
 ],
 "metadata": {
  "kernelspec": {
   "display_name": "PyCharm (cImpute)",
   "language": "python",
   "name": "pycharm-67e4abe6"
  },
  "language_info": {
   "codemirror_mode": {
    "name": "ipython",
    "version": 3
   },
   "file_extension": ".py",
   "mimetype": "text/x-python",
   "name": "python",
   "nbconvert_exporter": "python",
   "pygments_lexer": "ipython3",
   "version": "3.8.3"
  }
 },
 "nbformat": 4,
 "nbformat_minor": 1
}